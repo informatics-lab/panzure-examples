{
 "cells": [
  {
   "cell_type": "markdown",
   "metadata": {
    "extensions": {
     "jupyter_dashboards": {
      "version": 1,
      "views": {
       "grid_default": {
        "col": 0,
        "height": 2,
        "hidden": false,
        "row": 0,
        "width": 11
       },
       "report_default": {
        "hidden": false
       }
      }
     }
    },
    "nbpresent": {
     "id": "7fbd286b-2306-43da-9e48-6d480907b81a"
    }
   },
   "source": [
    "# Jupyter Notebooks"
   ]
  },
  {
   "cell_type": "markdown",
   "metadata": {
    "extensions": {
     "jupyter_dashboards": {
      "version": 1,
      "views": {
       "grid_default": {
        "hidden": true
       },
       "report_default": {
        "hidden": false
       }
      }
     }
    },
    "nbpresent": {
     "id": "2f705832-cecf-4725-9380-703263507684"
    }
   },
   "source": [
    "A Notebook is made up of a series of executable cells. Cells can contain plain text:"
   ]
  },
  {
   "cell_type": "markdown",
   "metadata": {
    "extensions": {
     "jupyter_dashboards": {
      "version": 1,
      "views": {
       "grid_default": {
        "col": 0,
        "height": 14,
        "hidden": false,
        "row": 13,
        "width": 6
       },
       "report_default": {
        "hidden": false
       }
      }
     }
    }
   },
   "source": [
    "## Today\n",
    "- Cloudy with rain across Scotland and Northern Ireland, the rain heavy in the west with strong winds.\n",
    "- Some early mist or fog across England and Wales, soon clearing to a mostly dry day with sunny spells; sunniest in the east.\n",
    "\n",
    "## Tonight\n",
    "- Further cloud and rain for Scotland and Northern Ireland, heavy in places.\n",
    "- There'll be some clear spells further south, but despite this it will be very mild overnight.\n",
    "\n",
    "## Tuesday\n",
    "- Very warm and sunny across much of England, cloudier with possible heavy downpours in some western parts.\n",
    "- Remaining unsettled across Scotland and Northern Ireland, sunny spells elsewhere."
   ]
  },
  {
   "cell_type": "markdown",
   "metadata": {
    "extensions": {
     "jupyter_dashboards": {
      "version": 1,
      "views": {
       "grid_default": {
        "col": 7,
        "height": 4,
        "hidden": true,
        "row": 33,
        "width": 4
       },
       "report_default": {}
      }
     }
    }
   },
   "source": [
    "or Latex:"
   ]
  },
  {
   "cell_type": "markdown",
   "metadata": {
    "extensions": {
     "jupyter_dashboards": {
      "version": 1,
      "views": {
       "grid_default": {
        "col": 7,
        "height": 4,
        "hidden": true,
        "row": 29,
        "width": 4
       },
       "report_default": {}
      }
     }
    }
   },
   "source": [
    "$$c = \\sqrt{a^2 + b^2}$$"
   ]
  },
  {
   "cell_type": "code",
   "execution_count": 1,
   "metadata": {
    "collapsed": false,
    "extensions": {
     "jupyter_dashboards": {
      "version": 1,
      "views": {
       "grid_default": {
        "hidden": true
       },
       "report_default": {
        "hidden": false
       }
      }
     }
    }
   },
   "outputs": [
    {
     "name": "stdout",
     "output_type": "stream",
     "text": [
      "or Python.\n"
     ]
    }
   ],
   "source": [
    "print('or Python.')"
   ]
  },
  {
   "cell_type": "code",
   "execution_count": 2,
   "metadata": {
    "collapsed": false,
    "extensions": {
     "jupyter_dashboards": {
      "version": 1,
      "views": {
       "grid_default": {
        "hidden": true
       },
       "report_default": {
        "hidden": false
       }
      }
     }
    },
    "nbpresent": {
     "id": "3ef7f792-1909-4ee5-980b-fab0b14407f3"
    }
   },
   "outputs": [
    {
     "name": "stdout",
     "output_type": "stream",
     "text": [
      "Each cell is separate from the others...\n",
      "and can be re-executed on the fly\n"
     ]
    }
   ],
   "source": [
    "print('Each cell is separate from the others...')\n",
    "print('and can be re-executed on the fly')"
   ]
  },
  {
   "cell_type": "markdown",
   "metadata": {
    "extensions": {
     "jupyter_dashboards": {
      "version": 1,
      "views": {
       "grid_default": {
        "col": 4,
        "height": 4,
        "hidden": true,
        "row": 26,
        "width": 4
       },
       "report_default": {
        "hidden": false
       }
      }
     }
    },
    "nbpresent": {
     "id": "cd22d5e9-5043-4e59-bcea-cc7905942e5b"
    }
   },
   "source": [
    "## Multimedia"
   ]
  },
  {
   "cell_type": "markdown",
   "metadata": {
    "extensions": {
     "jupyter_dashboards": {
      "version": 1,
      "views": {
       "grid_default": {
        "hidden": true
       },
       "report_default": {
        "hidden": false
       }
      }
     }
    },
    "nbpresent": {
     "id": "6207cc6f-e096-4d94-9ba7-796ab4c95f8f"
    }
   },
   "source": [
    "You can include images, videos and charts in your notebook:"
   ]
  },
  {
   "cell_type": "markdown",
   "metadata": {
    "extensions": {
     "jupyter_dashboards": {
      "version": 1,
      "views": {
       "grid_default": {
        "col": 6,
        "height": 19,
        "hidden": false,
        "row": 2,
        "width": 6
       },
       "report_default": {
        "hidden": false
       }
      }
     }
    },
    "nbpresent": {
     "id": "1c277640-3432-4ab6-b08c-1991d0923d47"
    }
   },
   "source": [
    "![](https://metofficenews.files.wordpress.com/2013/05/satellite-and-rain-14-may-2013.jpg)"
   ]
  },
  {
   "cell_type": "code",
   "execution_count": 3,
   "metadata": {
    "collapsed": false,
    "extensions": {
     "jupyter_dashboards": {
      "version": 1,
      "views": {
       "grid_default": {
        "col": 0,
        "height": 11,
        "hidden": false,
        "row": 2,
        "width": 5
       },
       "report_default": {
        "hidden": false
       }
      }
     }
    },
    "nbpresent": {
     "id": "0a13dba0-e113-466a-8b7e-33ae83284533"
    }
   },
   "outputs": [
    {
     "data": {
      "image/jpeg": "[encoded data removed]",
      "text/html": [
       "\n",
       "        <iframe\n",
       "            width=\"400\"\n",
       "            height=\"300\"\n",
       "            src=\"https://www.youtube.com/embed/lqZ-uJIRv2w\"\n",
       "            frameborder=\"0\"\n",
       "            allowfullscreen\n",
       "        ></iframe>\n",
       "        "
      ],
      "text/plain": [
       "<IPython.lib.display.YouTubeVideo at 0x7fdd88107a20>"
      ]
     },
     "execution_count": 3,
     "metadata": {},
     "output_type": "execute_result"
    }
   ],
   "source": [
    "from IPython.display import YouTubeVideo\n",
    "YouTubeVideo(\"lqZ-uJIRv2w\")"
   ]
  },
  {
   "cell_type": "code",
   "execution_count": 5,
   "metadata": {
    "collapsed": false,
    "extensions": {
     "jupyter_dashboards": {
      "version": 1,
      "views": {
       "grid_default": {
        "col": 0,
        "height": 4,
        "hidden": true,
        "row": 13,
        "width": 12
       },
       "report_default": {
        "hidden": false
       }
      }
     }
    },
    "nbpresent": {
     "id": "4b2df5a7-7ba2-455e-93ad-0db27f0cdd70"
    },
    "scrolled": true
   },
   "outputs": [
    {
     "data": {
      "image/png": "[encoded data removed]",
      "text/plain": [
       "<Figure size 432x288 with 1 Axes>"
      ]
     },
     "metadata": {},
     "output_type": "display_data"
    }
   ],
   "source": [
    "import matplotlib\n",
    "import numpy as np\n",
    "import matplotlib.pyplot as plt\n",
    "\n",
    "x = np.linspace(0, 6*np.pi, 500)\n",
    "plt.plot(x, np.sin(x**2))\n",
    "plt.title('A simple chirp')\n",
    "plt.show()"
   ]
  },
  {
   "cell_type": "markdown",
   "metadata": {
    "extensions": {
     "jupyter_dashboards": {
      "version": 1,
      "views": {
       "grid_default": {
        "col": 0,
        "height": 4,
        "hidden": true,
        "row": 26,
        "width": 4
       },
       "report_default": {
        "hidden": false
       }
      }
     }
    },
    "nbpresent": {
     "id": "08838b39-25a4-4627-b481-05542ad3c122"
    }
   },
   "source": [
    "## Data Access"
   ]
  },
  {
   "cell_type": "markdown",
   "metadata": {
    "extensions": {
     "jupyter_dashboards": {
      "version": 1,
      "views": {
       "grid_default": {
        "hidden": true
       },
       "report_default": {
        "hidden": false
       }
      }
     }
    },
    "nbpresent": {
     "id": "ff89a29d-8123-4cec-9c43-c10da0575628"
    }
   },
   "source": [
    "There is currently 4TB of Mogreps-G data available directly from these notebooks. Just talk to the Informatics Lab if you'd like to find out more."
   ]
  },
  {
   "cell_type": "markdown",
   "metadata": {
    "extensions": {
     "jupyter_dashboards": {
      "version": 1,
      "views": {
       "grid_default": {
        "hidden": true
       },
       "report_default": {
        "hidden": false
       }
      }
     }
    },
    "nbpresent": {
     "id": "e9936387-4b5e-4a8e-b32f-c4c7cd37e0b2"
    }
   },
   "source": [
    "## Sharing Notebooks"
   ]
  },
  {
   "cell_type": "markdown",
   "metadata": {
    "extensions": {
     "jupyter_dashboards": {
      "version": 1,
      "views": {
       "grid_default": {
        "hidden": true
       },
       "report_default": {
        "hidden": false
       }
      }
     }
    },
    "nbpresent": {
     "id": "b80d70e3-0048-4255-9f9a-11f5e9de9861"
    }
   },
   "source": [
    "Each Notebook can be saved and shared easily. You can:\n",
    "\n",
    "- Compute the output in advance and share the notebook as a static webpage\n",
    "    - File > Download As > (HTML, PDF)\n",
    "- Share the notebook itself, allowing someone else to experiment\n",
    "    - File > Download as > (Notebook, Python)\n",
    "- Use the notebook as a dashboard\n",
    "    - View > Dashboard Layout + Dashboard Preview"
   ]
  },
  {
   "cell_type": "markdown",
   "metadata": {
    "extensions": {
     "jupyter_dashboards": {
      "version": 1,
      "views": {
       "grid_default": {
        "col": 0,
        "height": 4,
        "hidden": false,
        "row": 27,
        "width": 12
       },
       "report_default": {}
      }
     }
    }
   },
   "source": [
    "## Further info\n",
    "\n",
    "There are a lot of great examples out there:\n",
    "* You can learn more about the Python programming language in the [official tutorial](https://docs.python.org/3/tutorial/)\n",
    "* You can see example notebooks at [NBViewer](https://nbviewer.jupyter.org)\n",
    "* Or the the [IPython examples](https://github.com/ipython/ipython/wiki/A-gallery-of-interesting-IPython-Notebooks)"
   ]
  }
 ],
 "metadata": {
  "anaconda-cloud": {},
  "extensions": {
   "jupyter_dashboards": {
    "activeView": "grid_default",
    "version": 1,
    "views": {
     "grid_default": {
      "cellMargin": 10,
      "defaultCellHeight": 20,
      "maxColumns": 12,
      "name": "grid",
      "type": "grid"
     },
     "report_default": {
      "name": "report",
      "type": "report"
     }
    }
   }
  },
  "kernelspec": {
   "display_name": "Python [default]",
   "language": "python",
   "name": "python3"
  },
  "language_info": {
   "codemirror_mode": {
    "name": "ipython",
    "version": 3
   },
   "file_extension": ".py",
   "mimetype": "text/x-python",
   "name": "python",
   "nbconvert_exporter": "python",
   "pygments_lexer": "ipython3",
   "version": "3.6.3"
  },
  "nbpresent": {
   "slides": {
    "8a90c9e9-499f-48c8-a261-0fbee518ab1c": {
     "id": "8a90c9e9-499f-48c8-a261-0fbee518ab1c",
     "prev": "caa0d9ea-a0ac-4650-b470-5fe31f990a31",
     "regions": {
      "42b66131-b87f-4e89-a2f3-23d253b81e71": {
       "attrs": {
        "height": 1,
        "width": 1,
        "x": 0,
        "y": 0
       },
       "id": "42b66131-b87f-4e89-a2f3-23d253b81e71"
      }
     }
    },
    "caa0d9ea-a0ac-4650-b470-5fe31f990a31": {
     "id": "caa0d9ea-a0ac-4650-b470-5fe31f990a31",
     "layout": "grid",
     "prev": null,
     "regions": {
      "0620a9bb-affb-45b0-be2e-75e1898b4b3b": {
       "attrs": {
        "height": 1,
        "pad": 0.01,
        "treemap:weight": 1,
        "width": 1,
        "x": -0.08333333333333333,
        "y": 0.16666666666666666
       },
       "id": "0620a9bb-affb-45b0-be2e-75e1898b4b3b"
      },
      "63dea976-1c0f-4c1e-ab31-ed5b5ea2905d": {
       "attrs": {
        "height": 0.8333333333333334,
        "pad": 0.01,
        "width": 0.8333333333333334,
        "x": 0.08333333333333333,
        "y": 0
       },
       "id": "63dea976-1c0f-4c1e-ab31-ed5b5ea2905d"
      }
     }
    }
   },
   "themes": {}
  }
 },
 "nbformat": 4,
 "nbformat_minor": 2
}
