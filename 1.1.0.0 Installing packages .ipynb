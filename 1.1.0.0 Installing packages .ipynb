{
 "cells": [
  {
   "cell_type": "markdown",
   "metadata": {},
   "source": [
    "# Installing packages\n",
    "\n",
    "If you require new packages you can make you own conda environment\n",
    "\n",
    "In the terminal (click the + in the top right of this page and select terminal from the luncher):\n",
    "\n",
    "```bash\n",
    "conda init bash # Ensure conda setup\n",
    "```\n",
    "\n",
    "Close and reopen the terminal \n",
    "\n",
    "```bash\n",
    "conda create --name my-new-env -y\n",
    "conda activate my-new-env\n",
    "\n",
    "# Install ipykernel to use environment with Jupytr Lab. \n",
    "# Add any other packages here (or you can install more later).\n",
    "conda install ipykernel -y \n",
    "\n",
    "# Install the kernel to make it avaliable to Jupyter Lab\n",
    "python -m ipykernel install --name \"my-env\" --display-name \"My Env\" --user \n",
    "```\n",
    "\n",
    "Now refresh your web browser. \"My Env\" is now avaliable from the launcher.\n",
    "\n"
   ]
  },
  {
   "cell_type": "code",
   "execution_count": null,
   "metadata": {},
   "outputs": [],
   "source": []
  }
 ],
 "metadata": {
  "kernelspec": {
   "display_name": "Python 3",
   "language": "python",
   "name": "python3"
  },
  "language_info": {
   "codemirror_mode": {
    "name": "ipython",
    "version": 3
   },
   "file_extension": ".py",
   "mimetype": "text/x-python",
   "name": "python",
   "nbconvert_exporter": "python",
   "pygments_lexer": "ipython3",
   "version": "3.7.3"
  }
 },
 "nbformat": 4,
 "nbformat_minor": 4
}
